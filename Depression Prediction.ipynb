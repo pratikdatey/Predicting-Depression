{
 "cells": [
  {
   "cell_type": "code",
   "execution_count": 1,
   "id": "4f58201a",
   "metadata": {},
   "outputs": [],
   "source": [
    "import numpy as np\n",
    "import pandas as pd\n",
    "import matplotlib.pyplot as plt\n",
    "import seaborn as sns\n",
    "from sklearn.preprocessing import LabelEncoder\n",
    "from sklearn.model_selection import train_test_split,GridSearchCV\n",
    "from sklearn.linear_model import LogisticRegression\n",
    "from sklearn.metrics import accuracy_score,classification_report,confusion_matrix\n",
    "from sklearn.ensemble import RandomForestClassifier\n",
    "from sklearn.tree import DecisionTreeClassifier,ExtraTreeClassifier\n",
    "from xgboost import XGBClassifier\n",
    "sns.set(style='whitegrid')\n",
    "import warnings\n",
    "warnings.filterwarnings('ignore')"
   ]
  },
  {
   "cell_type": "code",
   "execution_count": 2,
   "id": "5dfd1168",
   "metadata": {},
   "outputs": [
    {
     "data": {
      "text/html": [
       "<div>\n",
       "<style scoped>\n",
       "    .dataframe tbody tr th:only-of-type {\n",
       "        vertical-align: middle;\n",
       "    }\n",
       "\n",
       "    .dataframe tbody tr th {\n",
       "        vertical-align: top;\n",
       "    }\n",
       "\n",
       "    .dataframe thead th {\n",
       "        text-align: right;\n",
       "    }\n",
       "</style>\n",
       "<table border=\"1\" class=\"dataframe\">\n",
       "  <thead>\n",
       "    <tr style=\"text-align: right;\">\n",
       "      <th></th>\n",
       "      <th>Depression</th>\n",
       "      <th>Gender</th>\n",
       "      <th>Age</th>\n",
       "      <th>Race</th>\n",
       "      <th>Citizenship</th>\n",
       "      <th>Education Level</th>\n",
       "      <th>Marital Status</th>\n",
       "      <th>Household Size</th>\n",
       "      <th>Pregnant</th>\n",
       "      <th>Birth Place</th>\n",
       "      <th>...</th>\n",
       "      <th>Rx Insulin Regular</th>\n",
       "      <th>Rx Days Insulin Regular</th>\n",
       "      <th>Rx Memantine</th>\n",
       "      <th>Rx Days Memantine</th>\n",
       "      <th>Rx Diphenhydramine</th>\n",
       "      <th>Rx Days Diphenhydramine</th>\n",
       "      <th>Rx Minocycline</th>\n",
       "      <th>Rx Days Minocycline</th>\n",
       "      <th>Rx Methocarbamol</th>\n",
       "      <th>Rx Days Methocarbamol</th>\n",
       "    </tr>\n",
       "    <tr>\n",
       "      <th>SEQN</th>\n",
       "      <th></th>\n",
       "      <th></th>\n",
       "      <th></th>\n",
       "      <th></th>\n",
       "      <th></th>\n",
       "      <th></th>\n",
       "      <th></th>\n",
       "      <th></th>\n",
       "      <th></th>\n",
       "      <th></th>\n",
       "      <th></th>\n",
       "      <th></th>\n",
       "      <th></th>\n",
       "      <th></th>\n",
       "      <th></th>\n",
       "      <th></th>\n",
       "      <th></th>\n",
       "      <th></th>\n",
       "      <th></th>\n",
       "      <th></th>\n",
       "      <th></th>\n",
       "    </tr>\n",
       "  </thead>\n",
       "  <tbody>\n",
       "    <tr>\n",
       "      <th>31131</th>\n",
       "      <td>Not Depressed</td>\n",
       "      <td>Female</td>\n",
       "      <td>44</td>\n",
       "      <td>Black</td>\n",
       "      <td>Citizen</td>\n",
       "      <td>Some College or AA Degree</td>\n",
       "      <td>Married</td>\n",
       "      <td>4</td>\n",
       "      <td>No</td>\n",
       "      <td>USA</td>\n",
       "      <td>...</td>\n",
       "      <td>No</td>\n",
       "      <td>0.0</td>\n",
       "      <td>No</td>\n",
       "      <td>0.0</td>\n",
       "      <td>No</td>\n",
       "      <td>0.0</td>\n",
       "      <td>No</td>\n",
       "      <td>0.0</td>\n",
       "      <td>No</td>\n",
       "      <td>0.0</td>\n",
       "    </tr>\n",
       "    <tr>\n",
       "      <th>31132</th>\n",
       "      <td>Not Depressed</td>\n",
       "      <td>Male</td>\n",
       "      <td>70</td>\n",
       "      <td>White</td>\n",
       "      <td>Citizen</td>\n",
       "      <td>College Graduate or Above</td>\n",
       "      <td>Married</td>\n",
       "      <td>2</td>\n",
       "      <td>Missing</td>\n",
       "      <td>USA</td>\n",
       "      <td>...</td>\n",
       "      <td>No</td>\n",
       "      <td>0.0</td>\n",
       "      <td>No</td>\n",
       "      <td>0.0</td>\n",
       "      <td>No</td>\n",
       "      <td>0.0</td>\n",
       "      <td>No</td>\n",
       "      <td>0.0</td>\n",
       "      <td>No</td>\n",
       "      <td>0.0</td>\n",
       "    </tr>\n",
       "    <tr>\n",
       "      <th>31134</th>\n",
       "      <td>Not Depressed</td>\n",
       "      <td>Male</td>\n",
       "      <td>73</td>\n",
       "      <td>White</td>\n",
       "      <td>Citizen</td>\n",
       "      <td>High School</td>\n",
       "      <td>Married</td>\n",
       "      <td>2</td>\n",
       "      <td>Missing</td>\n",
       "      <td>USA</td>\n",
       "      <td>...</td>\n",
       "      <td>No</td>\n",
       "      <td>0.0</td>\n",
       "      <td>No</td>\n",
       "      <td>0.0</td>\n",
       "      <td>No</td>\n",
       "      <td>0.0</td>\n",
       "      <td>No</td>\n",
       "      <td>0.0</td>\n",
       "      <td>No</td>\n",
       "      <td>0.0</td>\n",
       "    </tr>\n",
       "    <tr>\n",
       "      <th>31139</th>\n",
       "      <td>Not Depressed</td>\n",
       "      <td>Female</td>\n",
       "      <td>18</td>\n",
       "      <td>Other Hispanic</td>\n",
       "      <td>Citizen</td>\n",
       "      <td>Missing</td>\n",
       "      <td>Never Married</td>\n",
       "      <td>3</td>\n",
       "      <td>No</td>\n",
       "      <td>USA</td>\n",
       "      <td>...</td>\n",
       "      <td>No</td>\n",
       "      <td>0.0</td>\n",
       "      <td>No</td>\n",
       "      <td>0.0</td>\n",
       "      <td>No</td>\n",
       "      <td>0.0</td>\n",
       "      <td>No</td>\n",
       "      <td>0.0</td>\n",
       "      <td>No</td>\n",
       "      <td>0.0</td>\n",
       "    </tr>\n",
       "    <tr>\n",
       "      <th>31143</th>\n",
       "      <td>Not Depressed</td>\n",
       "      <td>Male</td>\n",
       "      <td>19</td>\n",
       "      <td>White</td>\n",
       "      <td>Citizen</td>\n",
       "      <td>Missing</td>\n",
       "      <td>Never Married</td>\n",
       "      <td>3</td>\n",
       "      <td>Missing</td>\n",
       "      <td>USA</td>\n",
       "      <td>...</td>\n",
       "      <td>No</td>\n",
       "      <td>0.0</td>\n",
       "      <td>No</td>\n",
       "      <td>0.0</td>\n",
       "      <td>No</td>\n",
       "      <td>0.0</td>\n",
       "      <td>No</td>\n",
       "      <td>0.0</td>\n",
       "      <td>No</td>\n",
       "      <td>0.0</td>\n",
       "    </tr>\n",
       "  </tbody>\n",
       "</table>\n",
       "<p>5 rows × 491 columns</p>\n",
       "</div>"
      ],
      "text/plain": [
       "          Depression  Gender  Age            Race Citizenship  \\\n",
       "SEQN                                                            \n",
       "31131  Not Depressed  Female   44           Black     Citizen   \n",
       "31132  Not Depressed    Male   70           White     Citizen   \n",
       "31134  Not Depressed    Male   73           White     Citizen   \n",
       "31139  Not Depressed  Female   18  Other Hispanic     Citizen   \n",
       "31143  Not Depressed    Male   19           White     Citizen   \n",
       "\n",
       "                 Education Level Marital Status  Household Size Pregnant  \\\n",
       "SEQN                                                                       \n",
       "31131  Some College or AA Degree        Married               4       No   \n",
       "31132  College Graduate or Above        Married               2  Missing   \n",
       "31134                High School        Married               2  Missing   \n",
       "31139                    Missing  Never Married               3       No   \n",
       "31143                    Missing  Never Married               3  Missing   \n",
       "\n",
       "      Birth Place  ... Rx Insulin Regular Rx Days Insulin Regular  \\\n",
       "SEQN               ...                                              \n",
       "31131         USA  ...                 No                     0.0   \n",
       "31132         USA  ...                 No                     0.0   \n",
       "31134         USA  ...                 No                     0.0   \n",
       "31139         USA  ...                 No                     0.0   \n",
       "31143         USA  ...                 No                     0.0   \n",
       "\n",
       "      Rx Memantine  Rx Days Memantine Rx Diphenhydramine  \\\n",
       "SEQN                                                       \n",
       "31131           No                0.0                 No   \n",
       "31132           No                0.0                 No   \n",
       "31134           No                0.0                 No   \n",
       "31139           No                0.0                 No   \n",
       "31143           No                0.0                 No   \n",
       "\n",
       "      Rx Days Diphenhydramine Rx Minocycline Rx Days Minocycline  \\\n",
       "SEQN                                                               \n",
       "31131                     0.0             No                 0.0   \n",
       "31132                     0.0             No                 0.0   \n",
       "31134                     0.0             No                 0.0   \n",
       "31139                     0.0             No                 0.0   \n",
       "31143                     0.0             No                 0.0   \n",
       "\n",
       "      Rx Methocarbamol Rx Days Methocarbamol  \n",
       "SEQN                                          \n",
       "31131               No                   0.0  \n",
       "31132               No                   0.0  \n",
       "31134               No                   0.0  \n",
       "31139               No                   0.0  \n",
       "31143               No                   0.0  \n",
       "\n",
       "[5 rows x 491 columns]"
      ]
     },
     "execution_count": 2,
     "metadata": {},
     "output_type": "execute_result"
    }
   ],
   "source": [
    "data=pd.read_csv('StreamlitData.csv',index_col=0)\n",
    "data.head()"
   ]
  },
  {
   "cell_type": "markdown",
   "id": "69c4afa2",
   "metadata": {},
   "source": [
    "## EDA"
   ]
  },
  {
   "cell_type": "code",
   "execution_count": 3,
   "id": "116571df",
   "metadata": {},
   "outputs": [
    {
     "data": {
      "text/plain": [
       "Depression                 0\n",
       "Gender                     0\n",
       "Age                        0\n",
       "Race                       0\n",
       "Citizenship                0\n",
       "                          ..\n",
       "Rx Days Diphenhydramine    0\n",
       "Rx Minocycline             0\n",
       "Rx Days Minocycline        0\n",
       "Rx Methocarbamol           0\n",
       "Rx Days Methocarbamol      0\n",
       "Length: 491, dtype: int64"
      ]
     },
     "execution_count": 3,
     "metadata": {},
     "output_type": "execute_result"
    }
   ],
   "source": [
    "#Checking Null Values\n",
    "data.isna().sum()"
   ]
  },
  {
   "cell_type": "code",
   "execution_count": 4,
   "id": "28567567",
   "metadata": {},
   "outputs": [
    {
     "data": {
      "text/plain": [
       "<AxesSubplot:xlabel='Depression', ylabel='count'>"
      ]
     },
     "execution_count": 4,
     "metadata": {},
     "output_type": "execute_result"
    },
    {
     "data": {
      "image/png": "[encoded data removed]",
      "text/plain": [
       "<Figure size 720x432 with 1 Axes>"
      ]
     },
     "metadata": {},
     "output_type": "display_data"
    }
   ],
   "source": [
    "plt.figure(figsize=(10,6))\n",
    "sns.countplot(data['Depression'])"
   ]
  },
  {
   "cell_type": "code",
   "execution_count": 5,
   "id": "a74e370a",
   "metadata": {},
   "outputs": [
    {
     "data": {
      "text/plain": [
       "Text(0.5, 1.0, 'Age Counts')"
      ]
     },
     "execution_count": 5,
     "metadata": {},
     "output_type": "execute_result"
    },
    {
     "data": {
      "image/png": "[encoded data removed]",
      "text/plain": [
       "<Figure size 720x432 with 1 Axes>"
      ]
     },
     "metadata": {},
     "output_type": "display_data"
    }
   ],
   "source": [
    "plt.figure(figsize=(10,6))\n",
    "data['Age'].plot(kind='hist')\n",
    "plt.title('Age Counts')"
   ]
  },
  {
   "cell_type": "code",
   "execution_count": 6,
   "id": "655fbaed",
   "metadata": {},
   "outputs": [
    {
     "data": {
      "text/plain": [
       "<AxesSubplot:xlabel='Gender', ylabel='count'>"
      ]
     },
     "execution_count": 6,
     "metadata": {},
     "output_type": "execute_result"
    },
    {
     "data": {
      "image/png": "[encoded data removed]",
      "text/plain": [
       "<Figure size 720x432 with 1 Axes>"
      ]
     },
     "metadata": {},
     "output_type": "display_data"
    }
   ],
   "source": [
    "plt.figure(figsize=(10,6))\n",
    "sns.countplot(data['Gender'],hue=data['Depression'])"
   ]
  },
  {
   "cell_type": "code",
   "execution_count": 7,
   "id": "3bd7fc2f",
   "metadata": {},
   "outputs": [
    {
     "data": {
      "text/plain": [
       "<AxesSubplot:xlabel='Race', ylabel='count'>"
      ]
     },
     "execution_count": 7,
     "metadata": {},
     "output_type": "execute_result"
    },
    {
     "data": {
      "image/png": "[encoded data removed]",
      "text/plain": [
       "<Figure size 720x432 with 1 Axes>"
      ]
     },
     "metadata": {},
     "output_type": "display_data"
    }
   ],
   "source": [
    "plt.figure(figsize=(10,6))\n",
    "sns.countplot(data['Race'],hue=data['Depression'])"
   ]
  },
  {
   "cell_type": "code",
   "execution_count": 8,
   "id": "7fdf8c4e",
   "metadata": {},
   "outputs": [
    {
     "data": {
      "text/plain": [
       "array(['Some College or AA Degree', 'College Graduate or Above',\n",
       "       'High School', 'Missing', '9-11th Grade', 'Less Than 9th Grade'],\n",
       "      dtype=object)"
      ]
     },
     "execution_count": 8,
     "metadata": {},
     "output_type": "execute_result"
    }
   ],
   "source": [
    "data['Education Level'].unique()"
   ]
  },
  {
   "cell_type": "code",
   "execution_count": 9,
   "id": "acd1dde4",
   "metadata": {},
   "outputs": [
    {
     "data": {
      "text/plain": [
       "0    Some College or AA Degree\n",
       "dtype: object"
      ]
     },
     "execution_count": 9,
     "metadata": {},
     "output_type": "execute_result"
    }
   ],
   "source": [
    "data['Education Level'].mode()"
   ]
  },
  {
   "cell_type": "code",
   "execution_count": 10,
   "id": "02e7abe8",
   "metadata": {},
   "outputs": [],
   "source": [
    "data['Education Level']=data['Education Level'].replace('Missing','Some College or AA Degree')"
   ]
  },
  {
   "cell_type": "code",
   "execution_count": 11,
   "id": "36b12116",
   "metadata": {},
   "outputs": [
    {
     "data": {
      "text/plain": [
       "<AxesSubplot:xlabel='Education Level', ylabel='count'>"
      ]
     },
     "execution_count": 11,
     "metadata": {},
     "output_type": "execute_result"
    },
    {
     "data": {
      "image/png": "[encoded data removed]",
      "text/plain": [
       "<Figure size 1008x432 with 1 Axes>"
      ]
     },
     "metadata": {},
     "output_type": "display_data"
    }
   ],
   "source": [
    "plt.figure(figsize=(14,6))\n",
    "sns.countplot(data['Education Level'],hue=data['Depression'])"
   ]
  },
  {
   "cell_type": "code",
   "execution_count": 12,
   "id": "ac500169",
   "metadata": {},
   "outputs": [
    {
     "data": {
      "text/plain": [
       "<AxesSubplot:xlabel='Veteran', ylabel='count'>"
      ]
     },
     "execution_count": 12,
     "metadata": {},
     "output_type": "execute_result"
    },
    {
     "data": {
      "image/png": "[encoded data removed]",
      "text/plain": [
       "<Figure size 1008x432 with 1 Axes>"
      ]
     },
     "metadata": {},
     "output_type": "display_data"
    }
   ],
   "source": [
    "plt.figure(figsize=(14,6))\n",
    "sns.countplot(data['Veteran'],hue=data['Depression'])"
   ]
  },
  {
   "cell_type": "code",
   "execution_count": 13,
   "id": "572443b4",
   "metadata": {},
   "outputs": [
    {
     "data": {
      "text/plain": [
       "<AxesSubplot:xlabel='Asthma', ylabel='count'>"
      ]
     },
     "execution_count": 13,
     "metadata": {},
     "output_type": "execute_result"
    },
    {
     "data": {
      "image/png": "[encoded data removed]",
      "text/plain": [
       "<Figure size 1008x432 with 1 Axes>"
      ]
     },
     "metadata": {},
     "output_type": "display_data"
    }
   ],
   "source": [
    "plt.figure(figsize=(14,6))\n",
    "sns.countplot(data['Asthma'],hue=data['Depression'])"
   ]
  },
  {
   "cell_type": "code",
   "execution_count": 14,
   "id": "f34fbb73",
   "metadata": {},
   "outputs": [
    {
     "data": {
      "text/plain": [
       "<AxesSubplot:xlabel='Anemia', ylabel='count'>"
      ]
     },
     "execution_count": 14,
     "metadata": {},
     "output_type": "execute_result"
    },
    {
     "data": {
      "image/png": "[encoded data removed]",
      "text/plain": [
       "<Figure size 1008x432 with 1 Axes>"
      ]
     },
     "metadata": {},
     "output_type": "display_data"
    }
   ],
   "source": [
    "plt.figure(figsize=(14,6))\n",
    "sns.countplot(data['Anemia'],hue=data['Depression'])"
   ]
  },
  {
   "cell_type": "code",
   "execution_count": 15,
   "id": "e6c61836",
   "metadata": {},
   "outputs": [
    {
     "data": {
      "text/plain": [
       "<AxesSubplot:xlabel='Heart Disease', ylabel='count'>"
      ]
     },
     "execution_count": 15,
     "metadata": {},
     "output_type": "execute_result"
    },
    {
     "data": {
      "image/png": "[encoded data removed]",
      "text/plain": [
       "<Figure size 1008x432 with 1 Axes>"
      ]
     },
     "metadata": {},
     "output_type": "display_data"
    }
   ],
   "source": [
    "plt.figure(figsize=(14,6))\n",
    "sns.countplot(data['Heart Disease'],hue=data['Depression'])"
   ]
  },
  {
   "cell_type": "code",
   "execution_count": 16,
   "id": "e08cd2eb",
   "metadata": {},
   "outputs": [
    {
     "data": {
      "text/plain": [
       "<AxesSubplot:xlabel='Cancer', ylabel='count'>"
      ]
     },
     "execution_count": 16,
     "metadata": {},
     "output_type": "execute_result"
    },
    {
     "data": {
      "image/png": "[encoded data removed]",
      "text/plain": [
       "<Figure size 1008x432 with 1 Axes>"
      ]
     },
     "metadata": {},
     "output_type": "display_data"
    }
   ],
   "source": [
    "plt.figure(figsize=(14,6))\n",
    "sns.countplot(data['Cancer'],hue=data['Depression'])"
   ]
  },
  {
   "cell_type": "code",
   "execution_count": 17,
   "id": "d3b0f6b3",
   "metadata": {},
   "outputs": [
    {
     "data": {
      "text/plain": [
       "0    Married\n",
       "dtype: object"
      ]
     },
     "execution_count": 17,
     "metadata": {},
     "output_type": "execute_result"
    }
   ],
   "source": [
    "data['Marital Status'].mode()"
   ]
  },
  {
   "cell_type": "code",
   "execution_count": 18,
   "id": "9ca1bb6c",
   "metadata": {},
   "outputs": [],
   "source": [
    "data['Marital Status']=data['Marital Status'].replace('Missing','Married')"
   ]
  },
  {
   "cell_type": "code",
   "execution_count": 19,
   "id": "47a628da",
   "metadata": {},
   "outputs": [
    {
     "data": {
      "text/plain": [
       "<AxesSubplot:xlabel='Marital Status', ylabel='count'>"
      ]
     },
     "execution_count": 19,
     "metadata": {},
     "output_type": "execute_result"
    },
    {
     "data": {
      "image/png": "[encoded data removed]",
      "text/plain": [
       "<Figure size 1008x432 with 1 Axes>"
      ]
     },
     "metadata": {},
     "output_type": "display_data"
    }
   ],
   "source": [
    "plt.figure(figsize=(14,6))\n",
    "sns.countplot(data['Marital Status'],hue=data['Depression'])"
   ]
  },
  {
   "cell_type": "code",
   "execution_count": 20,
   "id": "84274cc9",
   "metadata": {},
   "outputs": [
    {
     "data": {
      "text/plain": [
       "Index(['Depression', 'Gender', 'Race', 'Citizenship', 'Education Level',\n",
       "       'Marital Status', 'Pregnant', 'Birth Place', 'Veteran',\n",
       "       'Household Income',\n",
       "       ...\n",
       "       'Rx Prednisolone', 'Rx Isosorbide',\n",
       "       'Rx Drospirenone, Ethinyl Estradiol', 'Rx Acetaminophen, Propoxyphene',\n",
       "       'Rx Penicillin', 'Rx Insulin Regular', 'Rx Memantine',\n",
       "       'Rx Diphenhydramine', 'Rx Minocycline', 'Rx Methocarbamol'],\n",
       "      dtype='object', length=248)"
      ]
     },
     "execution_count": 20,
     "metadata": {},
     "output_type": "execute_result"
    }
   ],
   "source": [
    "object_types=data.select_dtypes(include=['object']).columns\n",
    "object_types"
   ]
  },
  {
   "cell_type": "code",
   "execution_count": 21,
   "id": "43a118de",
   "metadata": {},
   "outputs": [],
   "source": [
    "le=LabelEncoder()\n",
    "for i in object_types:\n",
    "    data[i]=le.fit_transform(data[i])"
   ]
  },
  {
   "cell_type": "code",
   "execution_count": 22,
   "id": "f1a392a6",
   "metadata": {},
   "outputs": [],
   "source": [
    "x=data.drop(['Depression'],axis=1)\n",
    "y=data.Depression"
   ]
  },
  {
   "cell_type": "code",
   "execution_count": 23,
   "id": "a00ca72f",
   "metadata": {},
   "outputs": [],
   "source": [
    "trainx,testx,trainy,testy=train_test_split(x,y,test_size=0.2,random_state=42)"
   ]
  },
  {
   "cell_type": "markdown",
   "id": "9fb57c66",
   "metadata": {},
   "source": [
    "## LogisticRegression"
   ]
  },
  {
   "cell_type": "code",
   "execution_count": 24,
   "id": "c43d5dca",
   "metadata": {},
   "outputs": [],
   "source": [
    "logreg=LogisticRegression()\n",
    "logreg.fit(trainx,trainy)\n",
    "log_pred_test=logreg.predict(testx)\n",
    "log_pred_train=logreg.predict(trainx)"
   ]
  },
  {
   "cell_type": "code",
   "execution_count": 25,
   "id": "e09aaae4",
   "metadata": {},
   "outputs": [
    {
     "name": "stdout",
     "output_type": "stream",
     "text": [
      "0.9111969111969112\n",
      "0.9108835798255593\n"
     ]
    }
   ],
   "source": [
    "print(accuracy_score(testy,log_pred_test))\n",
    "print(accuracy_score(trainy,log_pred_train))"
   ]
  },
  {
   "cell_type": "code",
   "execution_count": 26,
   "id": "7378330b",
   "metadata": {},
   "outputs": [
    {
     "name": "stdout",
     "output_type": "stream",
     "text": [
      "              precision    recall  f1-score   support\n",
      "\n",
      "           0       0.35      0.04      0.07       621\n",
      "           1       0.92      0.99      0.95      6631\n",
      "\n",
      "    accuracy                           0.91      7252\n",
      "   macro avg       0.63      0.52      0.51      7252\n",
      "weighted avg       0.87      0.91      0.88      7252\n",
      "\n"
     ]
    }
   ],
   "source": [
    "print(classification_report(testy,log_pred_test))"
   ]
  },
  {
   "cell_type": "markdown",
   "id": "d7c46b43",
   "metadata": {},
   "source": [
    "## RandomForestClassifier"
   ]
  },
  {
   "cell_type": "code",
   "execution_count": 27,
   "id": "828dbef9",
   "metadata": {},
   "outputs": [],
   "source": [
    "rf=RandomForestClassifier(random_state=42)\n",
    "rf.fit(trainx,trainy)\n",
    "rf_pred_test=rf.predict(testx)\n",
    "rf_pred_train=rf.predict(trainx)"
   ]
  },
  {
   "cell_type": "code",
   "execution_count": 28,
   "id": "d1ec082c",
   "metadata": {},
   "outputs": [
    {
     "name": "stdout",
     "output_type": "stream",
     "text": [
      "0.9174020959735245\n",
      "1.0\n"
     ]
    }
   ],
   "source": [
    "print(accuracy_score(testy,rf_pred_test))\n",
    "print(accuracy_score(trainy,rf_pred_train))"
   ]
  },
  {
   "cell_type": "code",
   "execution_count": 29,
   "id": "75a13f4e",
   "metadata": {},
   "outputs": [],
   "source": [
    "rf_param_grid={'n_estimators':[100,150,200],'criterion':[\"gini\", \"entropy\"],'max_depth':[2,5,7],\n",
    "    'min_samples_split':[3,4,5],'min_samples_leaf':[2,4,5]}"
   ]
  },
  {
   "cell_type": "code",
   "execution_count": 30,
   "id": "317e2aff",
   "metadata": {},
   "outputs": [],
   "source": [
    "grid=GridSearchCV(estimator=rf, param_grid=rf_param_grid, n_jobs=-1, cv=4,verbose=1,\n",
    "                  scoring='accuracy')"
   ]
  },
  {
   "cell_type": "code",
   "execution_count": 31,
   "id": "08319fc4",
   "metadata": {},
   "outputs": [
    {
     "name": "stdout",
     "output_type": "stream",
     "text": [
      "Fitting 4 folds for each of 162 candidates, totalling 648 fits\n"
     ]
    },
    {
     "data": {
      "text/plain": [
       "{'criterion': 'gini',\n",
       " 'max_depth': 7,\n",
       " 'min_samples_leaf': 2,\n",
       " 'min_samples_split': 5,\n",
       " 'n_estimators': 100}"
      ]
     },
     "execution_count": 31,
     "metadata": {},
     "output_type": "execute_result"
    }
   ],
   "source": [
    "grid.fit(trainx,trainy)\n",
    "grid.best_params_"
   ]
  },
  {
   "cell_type": "code",
   "execution_count": 32,
   "id": "31dbd8d7",
   "metadata": {},
   "outputs": [],
   "source": [
    "grid_rf=RandomForestClassifier(criterion='gini',min_samples_leaf=2,max_depth=7, min_samples_split=5\n",
    "                              ,n_estimators=100,random_state=42)\n",
    "grid_rf.fit(trainx,trainy)\n",
    "grid_pred_rf=grid_rf.predict(testx)\n",
    "grid_pred_rf1=grid_rf.predict(trainx)"
   ]
  },
  {
   "cell_type": "code",
   "execution_count": 33,
   "id": "dedead9c",
   "metadata": {},
   "outputs": [
    {
     "name": "stdout",
     "output_type": "stream",
     "text": [
      "0.9143684500827358\n",
      "0.9139862791739924\n"
     ]
    }
   ],
   "source": [
    "print(accuracy_score(testy,grid_pred_rf))\n",
    "print(accuracy_score(trainy,grid_pred_rf1))"
   ]
  },
  {
   "cell_type": "code",
   "execution_count": 34,
   "id": "c55b4bc3",
   "metadata": {},
   "outputs": [
    {
     "name": "stdout",
     "output_type": "stream",
     "text": [
      "              precision    recall  f1-score   support\n",
      "\n",
      "           0       0.73      0.06      0.10       621\n",
      "           1       0.92      1.00      0.96      6631\n",
      "\n",
      "    accuracy                           0.92      7252\n",
      "   macro avg       0.82      0.53      0.53      7252\n",
      "weighted avg       0.90      0.92      0.88      7252\n",
      "\n"
     ]
    }
   ],
   "source": [
    "print(classification_report(testy,rf_pred_test))"
   ]
  },
  {
   "cell_type": "code",
   "execution_count": 35,
   "id": "309ddb00",
   "metadata": {},
   "outputs": [
    {
     "data": {
      "text/plain": [
       "array([[  35,  586],\n",
       "       [  13, 6618]], dtype=int64)"
      ]
     },
     "execution_count": 35,
     "metadata": {},
     "output_type": "execute_result"
    }
   ],
   "source": [
    "confusion_matrix(testy,rf_pred_test)"
   ]
  },
  {
   "cell_type": "markdown",
   "id": "d2cf8adf",
   "metadata": {},
   "source": [
    "## DecisionTreeClassifier"
   ]
  },
  {
   "cell_type": "code",
   "execution_count": 36,
   "id": "209eceb5",
   "metadata": {},
   "outputs": [],
   "source": [
    "dc=DecisionTreeClassifier(random_state=49)\n",
    "dc.fit(trainx,trainy)\n",
    "dc_pred=dc.predict(testx)\n",
    "dc_pred1=dc.predict(trainx)\n"
   ]
  },
  {
   "cell_type": "code",
   "execution_count": 37,
   "id": "f317d166",
   "metadata": {},
   "outputs": [
    {
     "name": "stdout",
     "output_type": "stream",
     "text": [
      "0.8665195808052951\n",
      "1.0\n"
     ]
    }
   ],
   "source": [
    "print(accuracy_score(testy,dc_pred))\n",
    "print(accuracy_score(trainy,dc_pred1))"
   ]
  },
  {
   "cell_type": "code",
   "execution_count": 38,
   "id": "9646b731",
   "metadata": {},
   "outputs": [
    {
     "name": "stdout",
     "output_type": "stream",
     "text": [
      "              precision    recall  f1-score   support\n",
      "\n",
      "           0       0.25      0.28      0.26       621\n",
      "           1       0.93      0.92      0.93      6631\n",
      "\n",
      "    accuracy                           0.87      7252\n",
      "   macro avg       0.59      0.60      0.59      7252\n",
      "weighted avg       0.87      0.87      0.87      7252\n",
      "\n"
     ]
    }
   ],
   "source": [
    "print(classification_report(testy,dc_pred))"
   ]
  },
  {
   "cell_type": "code",
   "execution_count": 39,
   "id": "f8e0c6d5",
   "metadata": {},
   "outputs": [],
   "source": [
    "dc_param_grid={\n",
    "    'criterion':[\"gini\", \"entropy\"],'max_depth':[1,2,3],\n",
    "    'max_features':[1,2,3,4],\n",
    "    'max_leaf_nodes':[2,3],\n",
    "    'min_samples_split':[2,3],\n",
    "    'min_samples_leaf':[1,2,3]}"
   ]
  },
  {
   "cell_type": "code",
   "execution_count": 40,
   "id": "feeed7a8",
   "metadata": {},
   "outputs": [
    {
     "name": "stdout",
     "output_type": "stream",
     "text": [
      "Fitting 4 folds for each of 288 candidates, totalling 1152 fits\n"
     ]
    },
    {
     "data": {
      "text/plain": [
       "{'criterion': 'gini',\n",
       " 'max_depth': 1,\n",
       " 'max_features': 1,\n",
       " 'max_leaf_nodes': 2,\n",
       " 'min_samples_leaf': 1,\n",
       " 'min_samples_split': 2}"
      ]
     },
     "execution_count": 40,
     "metadata": {},
     "output_type": "execute_result"
    }
   ],
   "source": [
    "grid1=GridSearchCV(estimator=dc, param_grid=dc_param_grid, n_jobs=-1, cv=4,verbose=1,scoring='accuracy')\n",
    "grid1.fit(trainx,trainy)\n",
    "grid1.best_params_"
   ]
  },
  {
   "cell_type": "code",
   "execution_count": 41,
   "id": "0296bec0",
   "metadata": {},
   "outputs": [],
   "source": [
    "grid_dc=DecisionTreeClassifier(criterion='gini',max_depth=1,max_features=1\n",
    "                               ,max_leaf_nodes=2,min_samples_leaf=1, min_samples_split=2,random_state=42)"
   ]
  },
  {
   "cell_type": "code",
   "execution_count": 42,
   "id": "a4b70a86",
   "metadata": {},
   "outputs": [],
   "source": [
    "grid_dc.fit(trainx,trainy)\n",
    "grid_dc_pred=grid_dc.predict(testx)\n",
    "grid_dc_pred1=grid_dc.predict(trainx)"
   ]
  },
  {
   "cell_type": "code",
   "execution_count": 43,
   "id": "1e8605a6",
   "metadata": {},
   "outputs": [
    {
     "name": "stdout",
     "output_type": "stream",
     "text": [
      "0.9143684500827358\n",
      "0.9121936084393423\n"
     ]
    }
   ],
   "source": [
    "print(accuracy_score(testy,grid_dc_pred))\n",
    "print(accuracy_score(trainy,grid_dc_pred1))"
   ]
  },
  {
   "cell_type": "code",
   "execution_count": 44,
   "id": "4133b51f",
   "metadata": {},
   "outputs": [
    {
     "name": "stdout",
     "output_type": "stream",
     "text": [
      "              precision    recall  f1-score   support\n",
      "\n",
      "           0       0.00      0.00      0.00       621\n",
      "           1       0.91      1.00      0.96      6631\n",
      "\n",
      "    accuracy                           0.91      7252\n",
      "   macro avg       0.46      0.50      0.48      7252\n",
      "weighted avg       0.84      0.91      0.87      7252\n",
      "\n"
     ]
    }
   ],
   "source": [
    "print(classification_report(testy,grid_dc_pred))"
   ]
  },
  {
   "cell_type": "markdown",
   "id": "14fe179b",
   "metadata": {},
   "source": [
    "## ExtraTreeClassifier"
   ]
  },
  {
   "cell_type": "code",
   "execution_count": 45,
   "id": "deecbc8e",
   "metadata": {},
   "outputs": [
    {
     "data": {
      "text/plain": [
       "ExtraTreeClassifier(random_state=42)"
      ]
     },
     "execution_count": 45,
     "metadata": {},
     "output_type": "execute_result"
    }
   ],
   "source": [
    "extr=ExtraTreeClassifier(random_state=42)\n",
    "\n",
    "extr.fit(trainx,trainy)\n",
    "\n",
    "ExtraTreeClassifier(random_state=42)"
   ]
  },
  {
   "cell_type": "code",
   "execution_count": 46,
   "id": "5ccc1244",
   "metadata": {},
   "outputs": [
    {
     "name": "stdout",
     "output_type": "stream",
     "text": [
      "0.866657473800331\n",
      "1.0\n"
     ]
    }
   ],
   "source": [
    "extr_dc_pred=extr.predict(testx)\n",
    "extr_dc_pred1=extr.predict(trainx)\n",
    "\n",
    "print(accuracy_score(testy,extr_dc_pred))\n",
    "print(accuracy_score(trainy,extr_dc_pred1))"
   ]
  },
  {
   "cell_type": "code",
   "execution_count": 47,
   "id": "fc3f91a5",
   "metadata": {},
   "outputs": [
    {
     "name": "stdout",
     "output_type": "stream",
     "text": [
      "              precision    recall  f1-score   support\n",
      "\n",
      "           0       0.23      0.23      0.23       621\n",
      "           1       0.93      0.93      0.93      6631\n",
      "\n",
      "    accuracy                           0.87      7252\n",
      "   macro avg       0.58      0.58      0.58      7252\n",
      "weighted avg       0.87      0.87      0.87      7252\n",
      "\n"
     ]
    }
   ],
   "source": [
    "print(classification_report(testy,extr_dc_pred))"
   ]
  },
  {
   "cell_type": "markdown",
   "id": "261408ed",
   "metadata": {},
   "source": [
    "## KNeighborsClassifier"
   ]
  },
  {
   "cell_type": "code",
   "execution_count": 48,
   "id": "3f84e771",
   "metadata": {},
   "outputs": [
    {
     "data": {
      "text/plain": [
       "KNeighborsClassifier(n_neighbors=15)"
      ]
     },
     "execution_count": 48,
     "metadata": {},
     "output_type": "execute_result"
    }
   ],
   "source": [
    "from sklearn.neighbors import KNeighborsClassifier\n",
    "neigh = KNeighborsClassifier(n_neighbors=15)\n",
    "neigh.fit(trainx,trainy)"
   ]
  },
  {
   "cell_type": "code",
   "execution_count": 49,
   "id": "b42042b5",
   "metadata": {},
   "outputs": [
    {
     "name": "stdout",
     "output_type": "stream",
     "text": [
      "0.9142305570877\n",
      "0.9122970317509567\n"
     ]
    }
   ],
   "source": [
    "pred_neigh=neigh.predict(testx)\n",
    "pred_neigh1=neigh.predict(trainx)\n",
    "\n",
    "print(accuracy_score(testy,pred_neigh))\n",
    "print(accuracy_score(trainy,pred_neigh1))"
   ]
  },
  {
   "cell_type": "code",
   "execution_count": 50,
   "id": "421a8b3e",
   "metadata": {},
   "outputs": [
    {
     "name": "stdout",
     "output_type": "stream",
     "text": [
      "              precision    recall  f1-score   support\n",
      "\n",
      "           0       0.00      0.00      0.00       621\n",
      "           1       0.91      1.00      0.96      6631\n",
      "\n",
      "    accuracy                           0.91      7252\n",
      "   macro avg       0.46      0.50      0.48      7252\n",
      "weighted avg       0.84      0.91      0.87      7252\n",
      "\n"
     ]
    }
   ],
   "source": [
    "print(classification_report(testy,pred_neigh))"
   ]
  },
  {
   "cell_type": "markdown",
   "id": "5fe77e4e",
   "metadata": {},
   "source": [
    "## Conclusion"
   ]
  },
  {
   "cell_type": "raw",
   "id": "6ad2bccb",
   "metadata": {},
   "source": [
    "The accuracy of Random Forest Tree (RFT) was found to be the highest and also Random Forest was identified as \n",
    "the best model. Due to the fact that this problem produced imbalanced classes, \n",
    "the best-model selection was made on the basis of the f1 score, which is used for cases of imbalanced partitioning.\n"
   ]
  }
 ],
 "metadata": {
  "kernelspec": {
   "display_name": "Python 3",
   "language": "python",
   "name": "python3"
  },
  "language_info": {
   "codemirror_mode": {
    "name": "ipython",
    "version": 3
   },
   "file_extension": ".py",
   "mimetype": "text/x-python",
   "name": "python",
   "nbconvert_exporter": "python",
   "pygments_lexer": "ipython3",
   "version": "3.8.8"
  }
 },
 "nbformat": 4,
 "nbformat_minor": 5
}
